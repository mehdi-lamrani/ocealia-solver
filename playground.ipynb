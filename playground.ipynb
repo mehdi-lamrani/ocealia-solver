{
 "cells": [
  {
   "cell_type": "code",
   "execution_count": 1,
   "metadata": {},
   "outputs": [
    {
     "name": "stderr",
     "output_type": "stream",
     "text": [
      "Picked up JAVA_TOOL_OPTIONS: -XX:+UseContainerSupport -XX:ActiveProcessorCount=2\n",
      "Picked up JAVA_TOOL_OPTIONS: -XX:+UseContainerSupport -XX:ActiveProcessorCount=2\n",
      "24/07/26 07:52:57 WARN Utils: Your hostname, mehdilamrani-gitpod2-i2e73i11dcj resolves to a loopback address: 127.0.0.1; using 10.0.5.2 instead (on interface eth0)\n",
      "24/07/26 07:52:57 WARN Utils: Set SPARK_LOCAL_IP if you need to bind to another address\n",
      "Setting default log level to \"WARN\".\n",
      "To adjust logging level use sc.setLogLevel(newLevel). For SparkR, use setLogLevel(newLevel).\n",
      "24/07/26 07:52:57 WARN NativeCodeLoader: Unable to load native-hadoop library for your platform... using builtin-java classes where applicable\n"
     ]
    }
   ],
   "source": [
    "from pyspark.sql import SparkSession\n",
    "\n",
    "# Create a SparkSession\n",
    "spark = SparkSession.builder.appName(\"algo\").getOrCreate()"
   ]
  },
  {
   "cell_type": "code",
   "execution_count": 3,
   "metadata": {},
   "outputs": [],
   "source": [
    "df = spark.read.format(\"csv\").option(\"header\", \"true\").option(\"sep\", \";\").load(\"out_prod_cartesien.csv\")\n"
   ]
  },
  {
   "cell_type": "code",
   "execution_count": 35,
   "metadata": {},
   "outputs": [
    {
     "name": "stderr",
     "output_type": "stream",
     "text": [
      "                                                                                \r"
     ]
    }
   ],
   "source": [
    "df.write.mode(\"overwrite\").parquet(\"out_prod_cartesien.parquet\")\n"
   ]
  },
  {
   "cell_type": "code",
   "execution_count": 32,
   "metadata": {},
   "outputs": [],
   "source": [
    "df = spark.read.format(\"parquet\").option(\"header\", \"true\").load(\"out_prod_cartesien.parquet\")\n"
   ]
  },
  {
   "cell_type": "code",
   "execution_count": 20,
   "metadata": {},
   "outputs": [
    {
     "data": {
      "text/plain": [
       "6405201"
      ]
     },
     "execution_count": 20,
     "metadata": {},
     "output_type": "execute_result"
    }
   ],
   "source": [
    "df.count()"
   ]
  },
  {
   "cell_type": "code",
   "execution_count": 4,
   "metadata": {},
   "outputs": [
    {
     "name": "stdout",
     "output_type": "stream",
     "text": [
      "+---------------------+-----------------+---------------------+------------+--------+-------------+---------------+--------+----------+\n",
      "|CODE_PRODUIT_STOCKAGE|CODE_SITE_ORIGINE|CODE_SITE_DESTINATION|CODE_CELLULE|CAPACITE|COUT_UNITAORE|QTE_PREV_EQ_BLE|QTE_PREV|COUT_TOTAL|\n",
      "+---------------------+-----------------+---------------------+------------+--------+-------------+---------------+--------+----------+\n",
      "|               CO0100|             D001|                 D700|        M000|       0|        14.73|         282.76|  282.76|      4165|\n",
      "|               CO0100|             D001|                 D700|        M001|     100|        14.73|         282.76|  282.76|      4165|\n",
      "|               CO0100|             D001|                 D700|        M002|     100|        14.73|         282.76|  282.76|      4165|\n",
      "|               CO0100|             D001|                 D700|        M003|     100|        14.73|         282.76|  282.76|      4165|\n",
      "|               CO0100|             D001|                 D700|        M004|     100|        14.73|         282.76|  282.76|      4165|\n",
      "|               CO0100|             D001|                 D700|        M005|     100|        14.73|         282.76|  282.76|      4165|\n",
      "|               CO0100|             D001|                 D700|        M006|     100|        14.73|         282.76|  282.76|      4165|\n",
      "|               CO0100|             D001|                 D700|        M007|     100|        14.73|         282.76|  282.76|      4165|\n",
      "|               CO0100|             D001|                 D700|        M008|     100|        14.73|         282.76|  282.76|      4165|\n",
      "|               CO0100|             D001|                 D700|        M701|    1000|        14.73|         282.76|  282.76|      4165|\n",
      "|               CO0100|             D001|                 D700|        M702|     800|        14.73|         282.76|  282.76|      4165|\n",
      "|               CO0100|             D001|                 D701|        M000|       0|        14.29|         282.76|  282.76|      4041|\n",
      "|               CO0100|             D001|                 D701|        M001|    1500|        14.29|         282.76|  282.76|      4041|\n",
      "|               CO0100|             D001|                 D701|        M002|    1500|        14.29|         282.76|  282.76|      4041|\n",
      "|               CO0100|             D001|                 D701|        M101|      12|        14.29|         282.76|  282.76|      4041|\n",
      "|               CO0100|             D001|                 D701|        M102|      15|        14.29|         282.76|  282.76|      4041|\n",
      "|               CO0100|             D001|                 D702|        M000|       0|        14.29|         282.76|  282.76|      4041|\n",
      "|               CO0100|             D001|                 D702|        M001|    1250|        14.29|         282.76|  282.76|      4041|\n",
      "|               CO0100|             D001|                 D702|        M002|    1250|        14.29|         282.76|  282.76|      4041|\n",
      "|               CO0100|             D001|                 D702|        M003|    1250|        14.29|         282.76|  282.76|      4041|\n",
      "|               CO0100|             D001|                 D702|        M004|    1250|        14.29|         282.76|  282.76|      4041|\n",
      "|               CO0100|             D001|                 D702|        M101|      50|        14.29|         282.76|  282.76|      4041|\n",
      "|               CO0100|             D001|                 D702|        M102|      50|        14.29|         282.76|  282.76|      4041|\n",
      "|               CO0100|             D001|                 D702|        M103|      50|        14.29|         282.76|  282.76|      4041|\n",
      "|               CO0100|             D001|                 D702|        M104|      51|        14.29|         282.76|  282.76|      4041|\n",
      "|               CO0100|             D001|                 D704|         C01|     200|        12.57|         282.76|  282.76|      3554|\n",
      "|               CO0100|             D001|                 D704|         C02|     600|        12.57|         282.76|  282.76|      3554|\n",
      "|               CO0100|             D001|                 D704|         C03|     600|        12.57|         282.76|  282.76|      3554|\n",
      "|               CO0100|             D001|                 D704|         C04|     600|        12.57|         282.76|  282.76|      3554|\n",
      "|               CO0100|             D001|                 D704|         C05|     180|        12.57|         282.76|  282.76|      3554|\n",
      "|               CO0100|             D001|                 D704|         C06|     100|        12.57|         282.76|  282.76|      3554|\n",
      "|               CO0100|             D001|                 D708|        M000|       0|         13.4|         282.76|  282.76|      3789|\n",
      "|               CO0100|             D001|                 D708|        M701|     180|         13.4|         282.76|  282.76|      3789|\n",
      "|               CO0100|             D001|                 D708|        M702|     120|         13.4|         282.76|  282.76|      3789|\n",
      "|               CO0100|             D001|                 D402|        M000|       0|        10.04|         282.76|  282.76|      2839|\n",
      "|               CO0100|             D001|                 D402|        M001|     800|        10.04|         282.76|  282.76|      2839|\n",
      "|               CO0100|             D001|                 D402|        M002|     800|        10.04|         282.76|  282.76|      2839|\n",
      "|               CO0100|             D001|                 D402|        M003|     800|        10.04|         282.76|  282.76|      2839|\n",
      "|               CO0100|             D001|                 D402|        M004|     800|        10.04|         282.76|  282.76|      2839|\n",
      "|               CO0100|             D001|                 D402|        M101|      25|        10.04|         282.76|  282.76|      2839|\n",
      "|               CO0100|             D001|                 D402|        M102|      25|        10.04|         282.76|  282.76|      2839|\n",
      "|               CO0100|             D001|                 D402|        M103|      70|        10.04|         282.76|  282.76|      2839|\n",
      "|               CO0100|             D001|                 D402|        M104|      70|        10.04|         282.76|  282.76|      2839|\n",
      "|               CO0100|             D001|                 D402|        M105|      70|        10.04|         282.76|  282.76|      2839|\n",
      "|               CO0100|             D001|                 D402|        M106|      70|        10.04|         282.76|  282.76|      2839|\n",
      "|               CO0100|             D001|                 D402|        M107|      70|        10.04|         282.76|  282.76|      2839|\n",
      "|               CO0100|             D001|                 D402|        M108|      70|        10.04|         282.76|  282.76|      2839|\n",
      "|               CO0100|             D001|                 D631|        M000|       0|        10.04|         282.76|  282.76|      2839|\n",
      "|               CO0100|             D001|                 D631|        M011|    2000|        10.04|         282.76|  282.76|      2839|\n",
      "|               CO0100|             D001|                 D631|        M012|    2000|        10.04|         282.76|  282.76|      2839|\n",
      "|               CO0100|             D001|                 D631|        M013|    2000|        10.04|         282.76|  282.76|      2839|\n",
      "|               CO0100|             D001|                 D631|        M014|    2000|        10.04|         282.76|  282.76|      2839|\n",
      "|               CO0100|             D001|                 D631|        M101|      60|        10.04|         282.76|  282.76|      2839|\n",
      "|               CO0100|             D001|                 D631|        M102|     200|        10.04|         282.76|  282.76|      2839|\n",
      "|               CO0100|             D001|                 D631|        M103|     200|        10.04|         282.76|  282.76|      2839|\n",
      "|               CO0100|             D001|                 D631|        M104|     200|        10.04|         282.76|  282.76|      2839|\n",
      "|               CO0100|             D001|                 D631|        M105|     200|        10.04|         282.76|  282.76|      2839|\n",
      "|               CO0100|             D001|                 D631|        M106|     120|        10.04|         282.76|  282.76|      2839|\n",
      "|               CO0100|             D001|                 D631|        M107|      60|        10.04|         282.76|  282.76|      2839|\n",
      "|               CO0100|             D001|                 D631|        M401|    9500|        10.04|         282.76|  282.76|      2839|\n",
      "|               CO0100|             D001|                 D631|        M402|    9500|        10.04|         282.76|  282.76|      2839|\n",
      "|               CO0100|             D001|                 D631|        M403|    2500|        10.04|         282.76|  282.76|      2839|\n",
      "|               CO0100|             D001|                 D631|        M404|    2500|        10.04|         282.76|  282.76|      2839|\n",
      "|               CO0100|             D001|                 D631|        M405|    2500|        10.04|         282.76|  282.76|      2839|\n",
      "|               CO0100|             D001|                 D631|        M406|    2500|        10.04|         282.76|  282.76|      2839|\n",
      "|               CO0100|             D001|                 D631|        M407|     300|        10.04|         282.76|  282.76|      2839|\n",
      "|               CO0100|             D001|                 D633|        M000|       0|        10.04|         282.76|  282.76|      2839|\n",
      "|               CO0100|             D001|                 D633|        M001|     150|        10.04|         282.76|  282.76|      2839|\n",
      "|               CO0100|             D001|                 D633|        M002|     200|        10.04|         282.76|  282.76|      2839|\n",
      "|               CO0100|             D001|                 D633|        M003|     200|        10.04|         282.76|  282.76|      2839|\n",
      "|               CO0100|             D001|                 D633|        M004|     250|        10.04|         282.76|  282.76|      2839|\n",
      "|               CO0100|             D001|                 D633|        M005|     250|        10.04|         282.76|  282.76|      2839|\n",
      "|               CO0100|             D001|                 D633|        M006|     250|        10.04|         282.76|  282.76|      2839|\n",
      "|               CO0100|             D001|                 D633|        M007|     250|        10.04|         282.76|  282.76|      2839|\n",
      "|               CO0100|             D001|                 D633|        M008|     250|        10.04|         282.76|  282.76|      2839|\n",
      "|               CO0100|             D001|                 D633|        M009|     250|        10.04|         282.76|  282.76|      2839|\n",
      "|               CO0100|             D001|                 D633|        M010|     250|        10.04|         282.76|  282.76|      2839|\n",
      "|               CO0100|             D001|                 D633|        M011|     250|        10.04|         282.76|  282.76|      2839|\n",
      "|               CO0100|             D001|                 D633|        M012|     200|        10.04|         282.76|  282.76|      2839|\n",
      "|               CO0100|             D001|                 D633|        M013|     200|        10.04|         282.76|  282.76|      2839|\n",
      "|               CO0100|             D001|                 D633|        M014|     150|        10.04|         282.76|  282.76|      2839|\n",
      "|               CO0100|             D001|                 D633|        M021|    1200|        10.04|         282.76|  282.76|      2839|\n",
      "|               CO0100|             D001|                 D633|        M022|    1200|        10.04|         282.76|  282.76|      2839|\n",
      "|               CO0100|             D001|                 D633|        M023|    1200|        10.04|         282.76|  282.76|      2839|\n",
      "|               CO0100|             D001|                 D633|        M024|    1200|        10.04|         282.76|  282.76|      2839|\n",
      "|               CO0100|             D001|                 D633|        M025|    1200|        10.04|         282.76|  282.76|      2839|\n",
      "|               CO0100|             D001|                 D633|        M026|    1200|        10.04|         282.76|  282.76|      2839|\n",
      "|               CO0100|             D001|                 D633|        M127|     270|        10.04|         282.76|  282.76|      2839|\n",
      "|               CO0100|             D001|                 D633|        M128|     160|        10.04|         282.76|  282.76|      2839|\n",
      "|               CO0100|             D001|                 D633|        M129|     320|        10.04|         282.76|  282.76|      2839|\n",
      "|               CO0100|             D001|                 D633|        M130|     160|        10.04|         282.76|  282.76|      2839|\n",
      "|               CO0100|             D001|                 D633|        M301|      50|        10.04|         282.76|  282.76|      2839|\n",
      "|               CO0100|             D001|                 D633|        M302|      50|        10.04|         282.76|  282.76|      2839|\n",
      "|               CO0100|             D001|                 D633|        M303|      50|        10.04|         282.76|  282.76|      2839|\n",
      "|               CO0100|             D001|                 D633|        M304|      50|        10.04|         282.76|  282.76|      2839|\n",
      "|               CO0100|             D001|                 D633|        M305|      50|        10.04|         282.76|  282.76|      2839|\n",
      "|               CO0100|             D001|                 D633|        M306|      50|        10.04|         282.76|  282.76|      2839|\n",
      "|               CO0100|             D001|                 D651|        M000|       0|        12.19|         282.76|  282.76|      3447|\n",
      "|               CO0100|             D001|                 D651|        M001|    1000|        12.19|         282.76|  282.76|      3447|\n",
      "|               CO0100|             D001|                 D651|        M002|    1000|        12.19|         282.76|  282.76|      3447|\n",
      "+---------------------+-----------------+---------------------+------------+--------+-------------+---------------+--------+----------+\n",
      "only showing top 100 rows\n",
      "\n"
     ]
    }
   ],
   "source": [
    "df.show(100)"
   ]
  },
  {
   "cell_type": "code",
   "execution_count": 38,
   "metadata": {},
   "outputs": [
    {
     "name": "stderr",
     "output_type": "stream",
     "text": [
      "[Stage 37:======================================>                   (2 + 1) / 3]\r"
     ]
    },
    {
     "name": "stdout",
     "output_type": "stream",
     "text": [
      "+---------------------+\n",
      "|CODE_PRODUIT_STOCKAGE|\n",
      "+---------------------+\n",
      "|               CO0435|\n",
      "|               CO0133|\n",
      "|               CO0470|\n",
      "|               CO0154|\n",
      "|               CO0300|\n",
      "|               CO0485|\n",
      "|               CO0309|\n",
      "|               CO0428|\n",
      "|               CO0100|\n",
      "|               CO0463|\n",
      "|               CO0478|\n",
      "|               CO0486|\n",
      "|               CO0408|\n",
      "|               CO0459|\n",
      "|               CO0318|\n",
      "|               CO0454|\n",
      "|               CO0487|\n",
      "|               CO0476|\n",
      "|               CO0173|\n",
      "|               CO0464|\n",
      "+---------------------+\n",
      "only showing top 20 rows\n",
      "\n"
     ]
    },
    {
     "name": "stderr",
     "output_type": "stream",
     "text": [
      "                                                                                \r"
     ]
    }
   ],
   "source": [
    "distinct_codes = df.select('CODE_PRODUIT_STOCKAGE').distinct()\n",
    "distinct_codes.show()\n"
   ]
  },
  {
   "cell_type": "code",
   "execution_count": 40,
   "metadata": {},
   "outputs": [
    {
     "name": "stderr",
     "output_type": "stream",
     "text": [
      "                                                                                \r"
     ]
    },
    {
     "data": {
      "text/plain": [
       "80"
      ]
     },
     "execution_count": 40,
     "metadata": {},
     "output_type": "execute_result"
    }
   ],
   "source": [
    "distinct_codes.count()"
   ]
  },
  {
   "cell_type": "code",
   "execution_count": 9,
   "metadata": {},
   "outputs": [
    {
     "name": "stderr",
     "output_type": "stream",
     "text": [
      "[Stage 6:=======================================>                   (2 + 1) / 3]\r"
     ]
    },
    {
     "name": "stdout",
     "output_type": "stream",
     "text": [
      "+---------------------+\n",
      "|CODE_PRODUIT_STOCKAGE|\n",
      "+---------------------+\n",
      "|               CO0300|\n",
      "|               CO0152|\n",
      "|               CO0313|\n",
      "|               CO0802|\n",
      "|               CO1002|\n",
      "|               CO0601|\n",
      "|               CO0700|\n",
      "|               CO1301|\n",
      "+---------------------+\n",
      "\n"
     ]
    },
    {
     "name": "stderr",
     "output_type": "stream",
     "text": [
      "                                                                                \r"
     ]
    }
   ],
   "source": [
    "filtered_df = df.where(df[\"CODE_SITE_ORIGINE\"] == \"D681\").select('CODE_PRODUIT_STOCKAGE').distinct()\n",
    "filtered_df.show()"
   ]
  },
  {
   "cell_type": "code",
   "execution_count": 6,
   "metadata": {},
   "outputs": [
    {
     "data": {
      "text/plain": [
       "DataFrame[CODE_PRODUIT_STOCKAGE: string, CODE_SITE_ORIGINE: string, CODE_SITE_DESTINATION: string, CODE_CELLULE: string, CAPACITE: string, COUT_UNITAORE: string, QTE_PREV_EQ_BLE: string, QTE_PREV: string, COUT_TOTAL: string]"
      ]
     },
     "execution_count": 6,
     "metadata": {},
     "output_type": "execute_result"
    }
   ],
   "source": [
    "filtered_df"
   ]
  }
 ],
 "metadata": {
  "kernelspec": {
   "display_name": "Python 3",
   "language": "python",
   "name": "python3"
  },
  "language_info": {
   "codemirror_mode": {
    "name": "ipython",
    "version": 3
   },
   "file_extension": ".py",
   "mimetype": "text/x-python",
   "name": "python",
   "nbconvert_exporter": "python",
   "pygments_lexer": "ipython3",
   "version": "3.12.4"
  }
 },
 "nbformat": 4,
 "nbformat_minor": 2
}
